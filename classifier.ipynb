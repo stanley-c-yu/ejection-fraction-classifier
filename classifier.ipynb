{
 "cells": [
  {
   "cell_type": "markdown",
   "metadata": {},
   "source": [
    "# Classifying Doctor's Note by Category of Ejection Fraction Measurement"
   ]
  },
  {
   "cell_type": "markdown",
   "metadata": {},
   "source": [
    "## Dependencies"
   ]
  },
  {
   "cell_type": "code",
   "execution_count": 1,
   "metadata": {},
   "outputs": [],
   "source": [
    "import pandas as pd\n",
    "import numpy as np\n",
    "import time\n",
    "import matplotlib.pyplot as plt\n",
    "import seaborn as sns\n",
    "import imblearn # for oversampling and undersampling\n",
    "\n",
    "from sklearn.naive_bayes import MultinomialNB\n",
    "from create_training_set import create_data\n",
    "from sklearn.feature_extraction.text import CountVectorizer, TfidfVectorizer\n",
    "#from sklearn import decomposition\n",
    "#from scipy import linalg\n",
    "from sklearn.model_selection import train_test_split\n",
    "from sklearn.metrics import accuracy_score, precision_score, recall_score, f1_score, confusion_matrix"
   ]
  },
  {
   "cell_type": "markdown",
   "metadata": {},
   "source": [
    "## Import Data"
   ]
  },
  {
   "cell_type": "code",
   "execution_count": 2,
   "metadata": {},
   "outputs": [
    {
     "name": "stdin",
     "output_type": "stream",
     "text": [
      "Do you wish to save to csv? Y/N:  N\n"
     ]
    },
    {
     "name": "stdout",
     "output_type": "stream",
     "text": [
      "Operation complete.  Quitting.\n",
      "Time elapsed:  60.79745554924011\n"
     ]
    }
   ],
   "source": [
    "start = time.time()\n",
    "df = create_data()\n",
    "end = time.time()\n",
    "print(\"Time elapsed: \", end-start)"
   ]
  },
  {
   "cell_type": "markdown",
   "metadata": {},
   "source": [
    "## Preprocessing"
   ]
  },
  {
   "cell_type": "code",
   "execution_count": 3,
   "metadata": {},
   "outputs": [],
   "source": [
    "# Relabel Method from strings to a numerical representation (0 for 2d, 1 for 3d, and 2 for None)\n",
    "df['METHOD'] = df['METHOD'].astype('category')\n",
    "df['METHOD'] = df['METHOD'].cat.rename_categories({'2d simpson biplane': 0, '3d imaging': 1, 'None': 2})"
   ]
  },
  {
   "cell_type": "code",
   "execution_count": 4,
   "metadata": {},
   "outputs": [
    {
     "name": "stdout",
     "output_type": "stream",
     "text": [
      "Shape of label vector:  (5056,)\n",
      "Type:  <class 'numpy.ndarray'>\n"
     ]
    }
   ],
   "source": [
    "# Cut the set down to just the cleaned Note Text and to the Label\n",
    "df_copy = df # copy\n",
    "df = df[['NOTE_CLEAN', 'METHOD']]\n",
    "# Separate out the labels \n",
    "labels = np.array(df['METHOD'])\n",
    "print(\"Shape of label vector: \", labels.shape)\n",
    "print(\"Type: \", type(labels))"
   ]
  },
  {
   "cell_type": "code",
   "execution_count": 5,
   "metadata": {},
   "outputs": [
    {
     "name": "stdout",
     "output_type": "stream",
     "text": [
      "Shape of document term matrix:  (5056, 3478)\n",
      "Type:  <class 'numpy.matrix'>\n"
     ]
    }
   ],
   "source": [
    "# Convert the features into a document term matrix\n",
    "\n",
    "# Word Counts\n",
    "# vectorizer = CountVectorizer(stop_words='english') #, tokenizer=LemmaTokenizer())\n",
    "# vectors = vectorizer.fit_transform(df['NOTE_CLEAN']).todense()\n",
    "\n",
    "# TF-IDF\n",
    "vectorizer_tfidf = TfidfVectorizer(stop_words='english')\n",
    "vectors_tfidf = vectorizer_tfidf.fit_transform(df['NOTE_CLEAN']).todense() # (documents, vocab)\n",
    "\n",
    "print(\"Shape of document term matrix: \", vectors_tfidf.shape)\n",
    "print(\"Type: \", type(vectors_tfidf))"
   ]
  },
  {
   "cell_type": "code",
   "execution_count": 6,
   "metadata": {},
   "outputs": [],
   "source": [
    "vocab = np.array(vectorizer_tfidf.get_feature_names())"
   ]
  },
  {
   "cell_type": "code",
   "execution_count": 7,
   "metadata": {},
   "outputs": [
    {
     "data": {
      "text/plain": [
       "array(['109', '10cm²', '10mm', '10mmhg', '10x', '11', '110', '111',\n",
       "       '1110', '1114', '112', '112020', '1132', '114', '115', '1153',\n",
       "       '1155', '116', '118', '119'], dtype='<U19')"
      ]
     },
     "execution_count": 7,
     "metadata": {},
     "output_type": "execute_result"
    }
   ],
   "source": [
    "vocab[100:120]"
   ]
  },
  {
   "cell_type": "code",
   "execution_count": 8,
   "metadata": {},
   "outputs": [],
   "source": [
    "df['METHOD'].describe()\n",
    "target = np.array(df['METHOD'])"
   ]
  },
  {
   "cell_type": "markdown",
   "metadata": {},
   "source": [
    "## Multinomial NBC"
   ]
  },
  {
   "cell_type": "code",
   "execution_count": 9,
   "metadata": {},
   "outputs": [],
   "source": [
    "X_train, X_test, y_train, y_test = train_test_split(vectors_tfidf, target)"
   ]
  },
  {
   "cell_type": "code",
   "execution_count": 10,
   "metadata": {},
   "outputs": [],
   "source": [
    "clf = MultinomialNB().fit(X_train, y_train)"
   ]
  },
  {
   "cell_type": "code",
   "execution_count": 11,
   "metadata": {},
   "outputs": [
    {
     "name": "stdout",
     "output_type": "stream",
     "text": [
      "Accuracy: 0.928\n",
      "Precision: 0.928\n",
      "Recall: 0.928\n",
      "F1 Score: 0.928\n"
     ]
    }
   ],
   "source": [
    "# make predictions\n",
    "yhat = clf.predict(X_test)\n",
    "# evaluate predictions\n",
    "acc = accuracy_score(y_test, yhat)\n",
    "prec = precision_score(y_test, yhat, average='micro')\n",
    "rec = recall_score(y_test, yhat, average='micro')\n",
    "f1 = f1_score(y_test, yhat, average='micro')\n",
    "print('Accuracy: %.3f' % acc)\n",
    "print('Precision: %.3f' % prec)\n",
    "print('Recall: %.3f' % rec)\n",
    "print('F1 Score: %.3f' % f1)"
   ]
  },
  {
   "cell_type": "code",
   "execution_count": 12,
   "metadata": {},
   "outputs": [
    {
     "data": {
      "text/plain": [
       "Text(0.5, 1.0, 'Confusion Matrix')"
      ]
     },
     "execution_count": 12,
     "metadata": {},
     "output_type": "execute_result"
    },
    {
     "data": {
      "image/png": "[encoded data removed]",
      "text/plain": [
       "<Figure size 432x288 with 2 Axes>"
      ]
     },
     "metadata": {
      "needs_background": "light"
     },
     "output_type": "display_data"
    }
   ],
   "source": [
    "cm = confusion_matrix(y_test, yhat)\n",
    "sns.heatmap(cm/np.sum(cm), annot=True, fmt='.2%', cmap='Blues')\n",
    "plt.xlabel('Predicted')\n",
    "plt.ylabel('Actual')\n",
    "plt.title('Confusion Matrix')"
   ]
  },
  {
   "cell_type": "markdown",
   "metadata": {},
   "source": [
    "__Analysis__: The results show that we can use a classification algorithm to sort documents according to our defined categories of Ejection Fraction Measurement Methods.  We can do this with remarkable accuracy, according to the metrics.  However, upon examining the confusion matrix, it appears clear that are algorithm excels at correctly classify 2D Simpson Biplane documents (0) and None documents (2), but not 3D Imaging (1).  \n",
    "\n",
    "Examining a barplot of the counts of each methods tells us why.  There is a severe class imbalance, and so we'll need to change our sampling method to adjust for this.  "
   ]
  },
  {
   "cell_type": "code",
   "execution_count": 13,
   "metadata": {},
   "outputs": [
    {
     "data": {
      "text/plain": [
       "<matplotlib.axes._subplots.AxesSubplot at 0x7f152070a460>"
      ]
     },
     "execution_count": 13,
     "metadata": {},
     "output_type": "execute_result"
    },
    {
     "data": {
      "image/png": "[encoded data removed]",
      "text/plain": [
       "<Figure size 432x288 with 1 Axes>"
      ]
     },
     "metadata": {},
     "output_type": "display_data"
    }
   ],
   "source": [
    "sns.set()\n",
    "sns.countplot(x='METHOD', data=df)"
   ]
  },
  {
   "cell_type": "markdown",
   "metadata": {},
   "source": [
    "### Re-sampling to compensate for class imbalance \n",
    "\n",
    "I will attempt to oversample Class 1, 3D Imaging, to a threshold of 50% of the training set.  I'll then try and undersample the other classes so that they're more or less present in equal proportions.  I was originally going to just oversample the minority class, but the barplot of the entire distribution of classes has me concerned that relying on oversampling alone would create an overfit model that wouldn't be useful as an applicable tool in the future.  Even so, oversampling the minority class to 50% might still result in overfitting, so I may have to play with the proportions.  \n",
    "\n",
    "It may still be useful to try a straightforward oversampling anyway, just to compare results.  I might even be surprised.  "
   ]
  },
  {
   "cell_type": "markdown",
   "metadata": {},
   "source": [
    "__Undersample Majority Classes__ \n",
    "\n",
    "Undersample Classes 0 and 2 to 1000 samples. "
   ]
  },
  {
   "cell_type": "code",
   "execution_count": 14,
   "metadata": {},
   "outputs": [],
   "source": [
    "# Define undersampling strategy\n",
    "undersample = imblearn.under_sampling.RandomUnderSampler(sampling_strategy={0: 1000, 2: 1000})\n",
    "# Fit and apply the transform \n",
    "X_under, y_under = undersample.fit_resample(X_train, y_train)"
   ]
  },
  {
   "cell_type": "code",
   "execution_count": 15,
   "metadata": {},
   "outputs": [
    {
     "data": {
      "text/plain": [
       "<matplotlib.axes._subplots.AxesSubplot at 0x7f1520663850>"
      ]
     },
     "execution_count": 15,
     "metadata": {},
     "output_type": "execute_result"
    },
    {
     "data": {
      "image/png": "[encoded data removed]",
      "text/plain": [
       "<Figure size 432x288 with 1 Axes>"
      ]
     },
     "metadata": {},
     "output_type": "display_data"
    }
   ],
   "source": [
    "sns.countplot(x='METHOD', data = pd.DataFrame(y_under, columns=['METHOD']))"
   ]
  },
  {
   "cell_type": "markdown",
   "metadata": {},
   "source": [
    "__Oversample Minority Class__ \n",
    "\n",
    "Oversample Class 1 to have the same number of samples as Classes 0 and 2 (1000 samples each).  "
   ]
  },
  {
   "cell_type": "code",
   "execution_count": 16,
   "metadata": {},
   "outputs": [],
   "source": [
    "# Define oversample strategy \n",
    "oversample = imblearn.over_sampling.RandomOverSampler(sampling_strategy='minority') # oversample minority class\n",
    "# Fit and apply the transform\n",
    "X_over, y_over = oversample.fit_resample(X_under, y_under)"
   ]
  },
  {
   "cell_type": "markdown",
   "metadata": {},
   "source": [
    "__Barplot of methods after re-sampling__"
   ]
  },
  {
   "cell_type": "code",
   "execution_count": 17,
   "metadata": {},
   "outputs": [
    {
     "data": {
      "text/plain": [
       "<matplotlib.axes._subplots.AxesSubplot at 0x7f15206cf700>"
      ]
     },
     "execution_count": 17,
     "metadata": {},
     "output_type": "execute_result"
    },
    {
     "data": {
      "image/png": "[encoded data removed]",
      "text/plain": [
       "<Figure size 432x288 with 1 Axes>"
      ]
     },
     "metadata": {},
     "output_type": "display_data"
    }
   ],
   "source": [
    "sns.countplot(x='METHOD', data = pd.DataFrame(y_over, columns=['METHOD']))"
   ]
  },
  {
   "cell_type": "markdown",
   "metadata": {},
   "source": [
    "__Create a new classifier with the resampled data__"
   ]
  },
  {
   "cell_type": "code",
   "execution_count": 18,
   "metadata": {},
   "outputs": [],
   "source": [
    "clf = MultinomialNB().fit(X_over, y_over)"
   ]
  },
  {
   "cell_type": "code",
   "execution_count": 19,
   "metadata": {},
   "outputs": [
    {
     "name": "stdout",
     "output_type": "stream",
     "text": [
      "Accuracy: 0.878\n",
      "Precision: 0.878\n",
      "Recall: 0.878\n",
      "F1 Score: 0.878\n",
      "Mean Squared Error: 0.2500\n"
     ]
    }
   ],
   "source": [
    "# make predictions\n",
    "yhat = clf.predict(X_test)\n",
    "# evaluate predictions\n",
    "acc = accuracy_score(y_test, yhat)\n",
    "prec = precision_score(y_test, yhat, average='micro')\n",
    "rec = recall_score(y_test, yhat, average='micro')\n",
    "f1 = f1_score(y_test, yhat, average='micro')\n",
    "print('Accuracy: %.3f' % acc)\n",
    "print('Precision: %.3f' % prec)\n",
    "print('Recall: %.3f' % rec)\n",
    "print('F1 Score: %.3f' % f1)\n",
    "\n",
    "# Compute MSE to see how different things are \n",
    "mse = np.sum((y_test - yhat)**2)/len(y_test)\n",
    "print(\"Mean Squared Error: %.4f\" % mse)"
   ]
  },
  {
   "cell_type": "code",
   "execution_count": 20,
   "metadata": {},
   "outputs": [
    {
     "data": {
      "text/plain": [
       "Text(0.5, 1.0, 'Confusion Matrix')"
      ]
     },
     "execution_count": 20,
     "metadata": {},
     "output_type": "execute_result"
    },
    {
     "data": {
      "image/png": "[encoded data removed]",
      "text/plain": [
       "<Figure size 432x288 with 2 Axes>"
      ]
     },
     "metadata": {},
     "output_type": "display_data"
    }
   ],
   "source": [
    "cm = confusion_matrix(y_test, yhat)\n",
    "sns.heatmap(cm/np.sum(cm), annot=True, fmt='.2%', cmap='Blues')\n",
    "plt.xlabel('Predicted')\n",
    "plt.ylabel('Actual')\n",
    "plt.title('Confusion Matrix')"
   ]
  },
  {
   "cell_type": "markdown",
   "metadata": {},
   "source": [
    "__Analysis__ \n",
    "\n",
    "The good news is that according to the confusion matrix, we are now able to correctly classify some documents as \"3D Imaging\".  It's hard to tell how good we are at doing this, since so few examples of 3D Imaging exists.  One way to get a good idea of how close we are to accurately classifying documents that incorporated 3D Imaging as a measurement technique would be to look at the actual proportion of 3D Imaging documents in the original dataset.  If they are comparable, it's a good sign that we're on the right track.  "
   ]
  },
  {
   "cell_type": "code",
   "execution_count": 21,
   "metadata": {},
   "outputs": [
    {
     "name": "stdout",
     "output_type": "stream",
     "text": [
      "Percentage of Class 1, 3D Imaging, in set: 1.00\n"
     ]
    }
   ],
   "source": [
    "proportion_class1 = len(df['METHOD'] == 1)/ len(df['METHOD'])\n",
    "print('Percentage of Class 1, 3D Imaging, in set: %.2f' % proportion_class1)"
   ]
  },
  {
   "cell_type": "markdown",
   "metadata": {},
   "source": [
    "It looks like 3D Imaging only made up about 1% of the original data, which is comparable to the 1.03% we classified when using the test set.  Why is the percentage slightly higher?  If I had to guess, it is because the splits are random samples, so the actual proportion of observations aren't going to be necessarily the same as the whole set.  In other words, when the testing sample was created at the start, it could have had a slightly higher proportion of observations labeled as 3D Imaging than in the training sample, which would explain why the testing sample has a higher proportion of 3D Imaging observations than the parent sample.  "
   ]
  },
  {
   "cell_type": "markdown",
   "metadata": {},
   "source": [
    "__Next Steps__ \n",
    "\n",
    "One thing I could try next would be to duplicate this process using other classification algorithms to compare and contrast performance.  Multinomial Logistic Regression, Decision Trees/Random Forests, or employing AdaBoost to increase performance.  I could even tinker with Neural Networks, although I am not sure the need justifies such a powerful tool.  \n",
    "\n",
    "I should also run the model on samples and actually compare the output with the corresponding original text with my own eyes.  I'll need to write code to attach the predictions to a table of samples that includes the text and the classification labels.  \n",
    "\n",
    "I would also like to try pickling the model and incorporating it into a Django application.  Incorporating it into an app would be great not just as an educational activity, but it could also turn it into a useable tool for others at HHC.  \n",
    "\n",
    "It may also be useful to apply the lessons I have learned here to create a binary classifier for documents that are focused on ejection fration and documents that are not.  Conceivably, the two models could work together in a sort of pipeline.  First, we sort documents by mention of ejection fraction.  Then, among the documents remaining, we label according to measurement method.  Isolating the measurement alone would still require some hardcoded pattern matching relying on some combination of SpaCy, NLTK, and/or regex. "
   ]
  },
  {
   "cell_type": "markdown",
   "metadata": {},
   "source": [
    "## Applying resulting readable labels to the dataframe \n",
    "\n",
    "The next step is to run the algorithm on an entire chunk of data, and then attach the predictions to something that resembles a final dataset that we would want an end user to receive.  It should contain a column for ID numbers, a column for the doctor's notes, and a column with the predicted method label.  In and of itself, this is not the final product.  We'll still need to implement a similar process for classifying ejection fraction documents alone and functionality to isolate the actual the measurement numbers.  I'm not too worried about those steps, since they largely build off of the work that will have been completed by then.  I wasn't sure at first whether I should even bother creating a binary classifier for ejection fraction documents in general, but after I've thought about it some more, I've realized that it's probably necessary.  Not every document that mentions ejection fraction has a measurement method associated with it, so just labeling documents as ejection fraction via the method classification system will result in a lot of mislabeled documents.  "
   ]
  },
  {
   "cell_type": "code",
   "execution_count": 22,
   "metadata": {},
   "outputs": [],
   "source": [
    "# Create an approximation of the data we would feed into our final product\n",
    "df_copy = df_copy[['ID', 'NOTE_CLEAN', 'METHOD']]\n",
    "\n",
    "# Copy input data\n",
    "X = vectors_tfidf"
   ]
  },
  {
   "cell_type": "code",
   "execution_count": 23,
   "metadata": {},
   "outputs": [],
   "source": [
    "# Run model\n",
    "predictions = clf.predict(X)\n",
    "# Save an array of the actual labels\n",
    "actual = np.array(df['METHOD'])"
   ]
  },
  {
   "cell_type": "code",
   "execution_count": 24,
   "metadata": {},
   "outputs": [],
   "source": [
    "# Relabel\n",
    "df_out = pd.concat([df_copy, pd.Series(predictions)], axis='columns')\n",
    "df_out = df_out.rename(columns={'METHOD': 'ACTUAL', 0: 'PREDICTED'})"
   ]
  },
  {
   "cell_type": "code",
   "execution_count": 25,
   "metadata": {},
   "outputs": [],
   "source": [
    "# Change categorizations from numbers to strings for predictions\n",
    "df_out['PREDICTED'] = df_out['PREDICTED'].astype('category')\n",
    "df_out['PREDICTED'] = df_out['PREDICTED'].cat.rename_categories({0: '2d simpson biplane', 1: '3d imaging', 2: 'None'})"
   ]
  },
  {
   "cell_type": "code",
   "execution_count": 26,
   "metadata": {},
   "outputs": [],
   "source": [
    "# Change categorizations from numbers to strings for actual labels\n",
    "df_out['ACTUAL'] = df_out['ACTUAL'].astype('category')\n",
    "df_out['ACTUAL'] = df_out['ACTUAL'].cat.rename_categories({0: '2d simpson biplane', 1: '3d imaging', 2: 'None'})"
   ]
  },
  {
   "cell_type": "markdown",
   "metadata": {},
   "source": [
    "From here, we can output the dataframe as a csv, or presumably do other things to it like store it in a database.  "
   ]
  },
  {
   "cell_type": "code",
   "execution_count": 27,
   "metadata": {},
   "outputs": [
    {
     "name": "stdout",
     "output_type": "stream",
     "text": [
      "Accuracy: 0.904\n",
      "Precision: 0.904\n",
      "Recall: 0.904\n",
      "F1 Score: 0.904\n",
      "Mean Squared Error: 0.2019\n"
     ]
    }
   ],
   "source": [
    "# Compute metrics to see how well the model perfoms on the full sample\n",
    "acc = accuracy_score(actual, predictions)\n",
    "prec = precision_score(actual, predictions, average='micro')\n",
    "rec = recall_score(actual, predictions, average='micro')\n",
    "f1 = f1_score(actual, predictions, average='micro')\n",
    "print('Accuracy: %.3f' % acc)\n",
    "print('Precision: %.3f' % prec)\n",
    "print('Recall: %.3f' % rec)\n",
    "print('F1 Score: %.3f' % f1)\n",
    "\n",
    "# Compute MSE to see how different things are \n",
    "mse = np.sum((actual - predictions)**2)/len(actual)\n",
    "print(\"Mean Squared Error: %.4f\" % mse)"
   ]
  },
  {
   "cell_type": "code",
   "execution_count": 28,
   "metadata": {},
   "outputs": [
    {
     "data": {
      "text/plain": [
       "Text(0.5, 1.0, 'Confusion Matrix')"
      ]
     },
     "execution_count": 28,
     "metadata": {},
     "output_type": "execute_result"
    },
    {
     "data": {
      "image/png": "[encoded data removed]",
      "text/plain": [
       "<Figure size 432x288 with 2 Axes>"
      ]
     },
     "metadata": {},
     "output_type": "display_data"
    }
   ],
   "source": [
    "cm = confusion_matrix(actual, predictions)\n",
    "sns.heatmap(cm/np.sum(cm), annot=True, fmt='.2%', cmap='Blues')\n",
    "plt.xlabel('Predicted')\n",
    "plt.ylabel('Actual')\n",
    "plt.title('Confusion Matrix')"
   ]
  },
  {
   "cell_type": "markdown",
   "metadata": {},
   "source": [
    "Metrics are similar, actually slightly better than the test.  That might be because we've trained the model specifically on a subset of this sample.  We'd probably get a more realistic simulation if we pulled an entirely new sample to run it on.  That being said, if the metrics are as good as an indicator as I think they are, this tool seems to have relatively high accuracy.  It's hard to say what standard is acceptable for actual production level use, but I think this is a positive sign."
   ]
  },
  {
   "cell_type": "markdown",
   "metadata": {},
   "source": [
    "## Saving model as pickle "
   ]
  },
  {
   "cell_type": "markdown",
   "metadata": {},
   "source": [
    "Use the Pickle Library to save the model and the vectorizer"
   ]
  },
  {
   "cell_type": "code",
   "execution_count": 29,
   "metadata": {},
   "outputs": [],
   "source": [
    "import pickle"
   ]
  },
  {
   "cell_type": "markdown",
   "metadata": {},
   "source": [
    "Dump the model to the ef_classifier.sav file, if it doesn't already exist.  It looks like we have to use the open() method to access it as the file argument for pickle.dump().  Within the open method, it looks like we're setting the mode arg to \"wb\", which I believe means we overwrite the file with binary information.  \n",
    "\n",
    "https://docs.python.org/3/library/functions.html#open"
   ]
  },
  {
   "cell_type": "code",
   "execution_count": 30,
   "metadata": {},
   "outputs": [],
   "source": [
    "pickle.dump(clf, open(\"ef_classifier.sav\", \"wb\"))"
   ]
  },
  {
   "cell_type": "markdown",
   "metadata": {},
   "source": [
    "Store the vectorizer object, which we want to use on the input data to transform it into something that the model can accept.  "
   ]
  },
  {
   "cell_type": "code",
   "execution_count": 31,
   "metadata": {},
   "outputs": [],
   "source": [
    "pickle.dump(vectorizer_tfidf, open(\"vectorizer.sav\", \"wb\"))"
   ]
  }
 ],
 "metadata": {
  "kernelspec": {
   "display_name": "Python 3",
   "language": "python",
   "name": "python3"
  },
  "language_info": {
   "codemirror_mode": {
    "name": "ipython",
    "version": 3
   },
   "file_extension": ".py",
   "mimetype": "text/x-python",
   "name": "python",
   "nbconvert_exporter": "python",
   "pygments_lexer": "ipython3",
   "version": "3.8.3"
  }
 },
 "nbformat": 4,
 "nbformat_minor": 4
}
